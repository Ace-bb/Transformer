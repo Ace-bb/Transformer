{
 "cells": [
  {
   "cell_type": "markdown",
   "metadata": {},
   "source": [
    "## 训练数据\n",
    "训练数据主要使用的English-German和English-French的数据集，来自WMT 2014，下载链接：https://www.statmt.org/wmt14/translation-task.html。其中，WMT 2014 English-German数据集包含有450万个句子对，使用BPE进行编码，并且开源了包含有37000个token 的词表。English-French的数据集包含有3600万个句子对，并且词表大小为32000。\n",
    "\n",
    "全部训练数据的句子对按照相似的长度进行分批，每个训练批次包含有大约25000个输入token和目标token。"
   ]
  },
  {
   "cell_type": "code",
   "execution_count": null,
   "metadata": {},
   "outputs": [],
   "source": []
  }
 ],
 "metadata": {
  "language_info": {
   "name": "python"
  }
 },
 "nbformat": 4,
 "nbformat_minor": 2
}
